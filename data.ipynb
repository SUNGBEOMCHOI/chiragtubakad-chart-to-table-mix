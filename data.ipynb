{
 "cells": [
  {
   "cell_type": "code",
   "execution_count": 2,
   "metadata": {},
   "outputs": [
    {
     "name": "stderr",
     "output_type": "stream",
     "text": [
      "/opt/conda/lib/python3.10/site-packages/tqdm/auto.py:21: TqdmWarning: IProgress not found. Please update jupyter and ipywidgets. See https://ipywidgets.readthedocs.io/en/stable/user_install.html\n",
      "  from .autonotebook import tqdm as notebook_tqdm\n"
     ]
    }
   ],
   "source": [
    "from datasets import load_dataset\n",
    "\n",
    "dataset = load_dataset(\"chiragtubakad/chart-to-table-mix\")"
   ]
  },
  {
   "cell_type": "code",
   "execution_count": 3,
   "metadata": {},
   "outputs": [
    {
     "name": "stderr",
     "output_type": "stream",
     "text": [
      "100%|██████████| 2245/2245 [00:54<00:00, 40.83it/s]\n",
      "100%|██████████| 562/562 [00:13<00:00, 40.92it/s]\n"
     ]
    }
   ],
   "source": [
    "import os\n",
    "from PIL import Image\n",
    "import tqdm\n",
    "train_datas = dataset['train']\n",
    "test_datas = dataset['test']\n",
    "train_save_path = './data/train'\n",
    "test_save_path = './data/test'\n",
    "os.makedirs(os.path.join(train_save_path, 'png'), exist_ok=True)\n",
    "os.makedirs(os.path.join(train_save_path, 'txt'), exist_ok=True)\n",
    "os.makedirs(os.path.join(test_save_path, 'png'), exist_ok=True)\n",
    "os.makedirs(os.path.join(test_save_path, 'txt'), exist_ok=True)\n",
    "for idx, data in enumerate(tqdm.tqdm(train_datas)):\n",
    "    image = data['image']\n",
    "    if image.mode == 'CMYK':\n",
    "        image = image.convert('RGB')\n",
    "    elif image.mode == 'L':\n",
    "        image = image.convert('RGB')\n",
    "    elif image.mode == 'RGBA':\n",
    "        print(1)\n",
    "        background = Image.new('RGB', image.size, (255, 255, 255))\n",
    "        background.paste(image, mask=image.split()[3])  # Alpha 채널을 mask로 사용\n",
    "        image = background\n",
    "    image.save(os.path.join(train_save_path, 'png', str(idx)+'.png'), 'PNG')\n",
    "    with open(os.path.join(train_save_path, 'txt', str(idx)+'.txt'), 'w') as f:\n",
    "        f.write(data['text'])\n",
    "\n",
    "for idx, data in enumerate(tqdm.tqdm(test_datas)):\n",
    "    image = data['image']\n",
    "    if image.mode == 'CMYK':\n",
    "        image = image.convert('RGB')\n",
    "    elif image.mode == 'L':\n",
    "        image = image.convert('RGB')\n",
    "    elif image.mode == 'RGBA':\n",
    "        print(1)\n",
    "        background = Image.new('RGB', image.size, (255, 255, 255))\n",
    "        background.paste(image, mask=image.split()[3])  # Alpha 채널을 mask로 사용\n",
    "        image = background\n",
    "    image.save(os.path.join(test_save_path, 'png', str(idx)+'.png'), 'PNG')\n",
    "    with open(os.path.join(test_save_path, 'txt', str(idx)+'.txt'), 'w') as f:\n",
    "        f.write(data['text'])"
   ]
  }
 ],
 "metadata": {
  "kernelspec": {
   "display_name": "base",
   "language": "python",
   "name": "python3"
  },
  "language_info": {
   "codemirror_mode": {
    "name": "ipython",
    "version": 3
   },
   "file_extension": ".py",
   "mimetype": "text/x-python",
   "name": "python",
   "nbconvert_exporter": "python",
   "pygments_lexer": "ipython3",
   "version": "3.10.13"
  }
 },
 "nbformat": 4,
 "nbformat_minor": 2
}
